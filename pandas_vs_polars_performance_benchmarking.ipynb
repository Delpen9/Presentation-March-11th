{
 "cells": [
  {
   "cell_type": "code",
   "execution_count": 0,
   "metadata": {
    "application/vnd.databricks.v1+cell": {
     "cellMetadata": {
      "byteLimit": 2048000,
      "rowLimit": 10000
     },
     "inputWidgets": {},
     "nuid": "6b437810-fc00-42c2-a4b1-d03f264aa2c9",
     "showTitle": false,
     "tableResultSettingsMap": {},
     "title": ""
    }
   },
   "outputs": [],
   "source": [
    "%pip install polars matplotlib numpy"
   ]
  },
  {
   "cell_type": "code",
   "execution_count": 0,
   "metadata": {
    "application/vnd.databricks.v1+cell": {
     "cellMetadata": {
      "byteLimit": 2048000,
      "rowLimit": 10000
     },
     "inputWidgets": {},
     "nuid": "9b57750c-0108-4ba5-b211-6d771d70e4f0",
     "showTitle": false,
     "tableResultSettingsMap": {},
     "title": ""
    }
   },
   "outputs": [],
   "source": [
    "import time\n",
    "import pandas as pd\n",
    "import polars as pl\n",
    "import numpy as np\n",
    "import matplotlib.pyplot as plt"
   ]
  },
  {
   "cell_type": "code",
   "execution_count": 0,
   "metadata": {
    "application/vnd.databricks.v1+cell": {
     "cellMetadata": {
      "byteLimit": 2048000,
      "rowLimit": 10000
     },
     "inputWidgets": {},
     "nuid": "03624aec-f72d-443c-ae07-ea10ddd576a4",
     "showTitle": false,
     "tableResultSettingsMap": {},
     "title": ""
    }
   },
   "outputs": [],
   "source": [
    "# Define a function to benchmark operations\n",
    "def benchmark_operations(df_pandas, df_polars):\n",
    "    \"\"\"\n",
    "    Run a few common data operations and measure execution time for Pandas and Polars.\n",
    "    \"\"\"\n",
    "    operations_pandas = [\n",
    "        lambda df: df[df[\"col1\"] > 50],  # Filtering\n",
    "        lambda df: df.groupby(\"col2\").agg({\"col1\": \"mean\"}),  # Aggregation\n",
    "        lambda df: df.sort_values(\"col1\"),  # Sorting\n",
    "    ]\n",
    "    \n",
    "    operations_polars = [\n",
    "        lambda df: df.filter(pl.col(\"col1\") > 50),  # Filtering in Polars\n",
    "        lambda df: df.group_by(\"col2\").agg(pl.col(\"col1\").mean().alias(\"mean_col1\")),  # Aggregation\n",
    "        lambda df: df.sort(\"col1\"),  # Sorting\n",
    "    ]\n",
    "\n",
    "    # Measure Pandas execution time\n",
    "    start = time.time()\n",
    "    for op in operations_pandas:\n",
    "        _ = op(df_pandas)\n",
    "    pandas_time = time.time() - start\n",
    "\n",
    "    # Measure Polars execution time\n",
    "    start = time.time()\n",
    "    for op in operations_polars:\n",
    "        _ = op(df_polars)\n",
    "    polars_time = time.time() - start\n",
    "    \n",
    "    return pandas_time, polars_time"
   ]
  },
  {
   "cell_type": "code",
   "execution_count": 0,
   "metadata": {
    "application/vnd.databricks.v1+cell": {
     "cellMetadata": {
      "byteLimit": 2048000,
      "rowLimit": 10000
     },
     "inputWidgets": {},
     "nuid": "ca4e0c31-f080-46e3-bda9-4ec407fa05f9",
     "showTitle": false,
     "tableResultSettingsMap": {},
     "title": ""
    }
   },
   "outputs": [],
   "source": [
    "if __name__ == \"__main__\":\n",
    "    # Define dataset sizes\n",
    "    dataset_sizes = [100_000, 1_000_000, 10_000_000]\n",
    "    results = {\"Dataset Size\": [], \"Library\": [], \"Execution Time (s)\": []}\n",
    "\n",
    "    # Run benchmarking for each dataset size\n",
    "    for size in dataset_sizes:\n",
    "        # Generate synthetic dataset\n",
    "        np.random.seed(42)\n",
    "        data = {\n",
    "            \"col1\": np.random.randint(0, 100, size),\n",
    "            \"col2\": np.random.choice([\"A\", \"B\", \"C\", \"D\"], size)\n",
    "        }\n",
    "        \n",
    "        # Convert to Pandas and Polars DataFrames\n",
    "        df_pandas = pd.DataFrame(data)\n",
    "        df_polars = pl.DataFrame(data)\n",
    "        \n",
    "        # Benchmark operations\n",
    "        pandas_time, polars_time = benchmark_operations(df_pandas, df_polars)\n",
    "        \n",
    "        # Store results\n",
    "        results[\"Dataset Size\"].extend([size, size])\n",
    "        results[\"Library\"].extend([\"Pandas\", \"Polars\"])\n",
    "        results[\"Execution Time (s)\"].extend([pandas_time, polars_time])\n",
    "\n",
    "    # Convert results to DataFrame\n",
    "    df_results = pd.DataFrame(results)\n",
    "\n",
    "    # Plot the results\n",
    "    plt.figure(figsize=(8, 6))\n",
    "    for library, color, marker in zip([\"Pandas\", \"Polars\"], [\"blue\", \"red\"], [\"o\", \"s\"]):\n",
    "        subset = df_results[df_results[\"Library\"] == library]\n",
    "        plt.plot(\n",
    "            subset[\"Dataset Size\"], subset[\"Execution Time (s)\"], \n",
    "            marker=marker, linestyle=\"-\", color=color, label=library\n",
    "        )\n",
    "        for x, y in zip(subset[\"Dataset Size\"], subset[\"Execution Time (s)\"]):\n",
    "            plt.text(x, y, f\"{y:.2f}s\", fontsize=10, ha='center', \n",
    "                    bbox=dict(facecolor=color, alpha=0.7, edgecolor=\"none\", boxstyle=\"round,pad=0.3\"))\n",
    "\n",
    "    plt.xscale(\"log\")\n",
    "    plt.xlabel(\"Dataset Size\")\n",
    "    plt.ylabel(\"Execution Time (seconds)\")\n",
    "    plt.title(\"⚡ Pandas vs Polars Performance Scaling ⚡\")\n",
    "    plt.legend()\n",
    "    plt.grid(True, which=\"both\", linestyle=\"--\", linewidth=0.5)\n",
    "    plt.show()"
   ]
  }
 ],
 "metadata": {
  "application/vnd.databricks.v1+notebook": {
   "computePreferences": null,
   "dashboards": [],
   "environmentMetadata": {
    "base_environment": "",
    "environment_version": "2"
   },
   "language": "python",
   "notebookMetadata": {
    "pythonIndentUnit": 4
   },
   "notebookName": "pandas_vs_polars_performance_benchmarking",
   "widgets": {}
  },
  "language_info": {
   "name": "python"
  }
 },
 "nbformat": 4,
 "nbformat_minor": 0
}
