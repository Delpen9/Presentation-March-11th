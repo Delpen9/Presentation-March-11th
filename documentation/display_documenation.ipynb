{
 "cells": [
  {
   "cell_type": "code",
   "execution_count": 0,
   "metadata": {
    "application/vnd.databricks.v1+cell": {
     "cellMetadata": {
      "byteLimit": 2048000,
      "rowLimit": 10000
     },
     "inputWidgets": {},
     "nuid": "877470e0-9a51-462e-8b61-802468bc333f",
     "showTitle": false,
     "tableResultSettingsMap": {},
     "title": ""
    }
   },
   "outputs": [],
   "source": [
    "%pip install mermaid-py"
   ]
  },
  {
   "cell_type": "code",
   "execution_count": 0,
   "metadata": {
    "application/vnd.databricks.v1+cell": {
     "cellMetadata": {
      "byteLimit": 2048000,
      "rowLimit": 10000
     },
     "inputWidgets": {},
     "nuid": "87aa75d6-159a-41eb-bbc5-eb333c95a3e7",
     "showTitle": false,
     "tableResultSettingsMap": {},
     "title": ""
    }
   },
   "outputs": [],
   "source": [
    "import pandas as pd\n",
    "import numpy as np\n",
    "import mermaid as md\n",
    "\n",
    "from IPython.core.display import display, HTML"
   ]
  },
  {
   "cell_type": "code",
   "execution_count": 0,
   "metadata": {
    "application/vnd.databricks.v1+cell": {
     "cellMetadata": {
      "byteLimit": 2048000,
      "rowLimit": 10000
     },
     "inputWidgets": {},
     "nuid": "02613c02-d803-4702-824c-cf18c4601ae9",
     "showTitle": false,
     "tableResultSettingsMap": {},
     "title": ""
    }
   },
   "outputs": [],
   "source": [
    "def display_mermaid_diagram(diagram: str) -> None:\n",
    "    html = f\"\"\"\n",
    "    <!DOCTYPE html>\n",
    "    <html>\n",
    "    <head>\n",
    "        <script type=\"module\">\n",
    "            import mermaid from 'https://cdn.jsdelivr.net/npm/mermaid@10/dist/mermaid.esm.min.mjs';\n",
    "            mermaid.initialize({{ startOnLoad: true }});\n",
    "            \n",
    "            document.addEventListener(\"DOMContentLoaded\", () => {{\n",
    "                setTimeout(() => {{\n",
    "                    const svgElement = document.querySelector('.mermaid svg');\n",
    "                    if (svgElement) {{\n",
    "                        const serializer = new XMLSerializer();\n",
    "                        const svgBlob = new Blob([serializer.serializeToString(svgElement)], {{ type: \"image/svg+xml\" }});\n",
    "                        const svgUrl = URL.createObjectURL(svgBlob);\n",
    "                        const downloadLink = document.getElementById(\"download-svg\");\n",
    "                        downloadLink.href = svgUrl;\n",
    "                        downloadLink.download = \"diagram.svg\";\n",
    "                        downloadLink.style.display = \"inline-block\";\n",
    "                    }}\n",
    "                }}, 1000); // Wait for rendering\n",
    "            }});\n",
    "        </script>\n",
    "        <style>\n",
    "            body {{ background-color: white; text-align: center; font-family: Arial, sans-serif; }}\n",
    "            #download-svg {{ \n",
    "                display: none; \n",
    "                margin-top: 10px; \n",
    "                padding: 10px 15px; \n",
    "                font-size: 16px; \n",
    "                background-color: #4CAF50; \n",
    "                color: white; \n",
    "                border: none; \n",
    "                cursor: pointer; \n",
    "                text-decoration: none;\n",
    "                border-radius: 5px;\n",
    "            }}\n",
    "        </style>\n",
    "    </head>\n",
    "    <body>\n",
    "        <div class=\"mermaid\">{diagram}</div>\n",
    "        <br>\n",
    "        <a id=\"download-svg\">Download SVG</a>\n",
    "    </body>\n",
    "    </html>\n",
    "    \"\"\"\n",
    "    display(HTML(html))"
   ]
  },
  {
   "cell_type": "code",
   "execution_count": 0,
   "metadata": {
    "application/vnd.databricks.v1+cell": {
     "cellMetadata": {
      "byteLimit": 2048000,
      "rowLimit": 10000
     },
     "inputWidgets": {},
     "nuid": "0f2b8593-0e1c-4e2f-87f4-94f3b0ac1c9d",
     "showTitle": false,
     "tableResultSettingsMap": {},
     "title": ""
    }
   },
   "outputs": [],
   "source": [
    "def read_mmd_file(file_path: str) -> str:\n",
    "    try:\n",
    "        with open(file_path, \"r\", encoding=\"utf-8\") as file:\n",
    "            return file.read()\n",
    "    except FileNotFoundError:\n",
    "        print(f\"Error: The file '{file_path}' was not found.\")\n",
    "        return None\n",
    "    except Exception as e:\n",
    "        print(f\"An error occurred: {e}\")\n",
    "        return None"
   ]
  },
  {
   "cell_type": "code",
   "execution_count": 0,
   "metadata": {
    "application/vnd.databricks.v1+cell": {
     "cellMetadata": {
      "byteLimit": 2048000,
      "rowLimit": 10000
     },
     "inputWidgets": {},
     "nuid": "29572816-3eed-4448-b011-9172cff39041",
     "showTitle": false,
     "tableResultSettingsMap": {},
     "title": ""
    }
   },
   "outputs": [],
   "source": [
    "if __name__ == \"__main__\":\n",
    "    file_path = \"sequence_chart.mmd\"\n",
    "    sequence_diagram = read_mmd_file(file_path=file_path)\n",
    "\n",
    "    display_mermaid_diagram(diagram=sequence_diagram)\n",
    "\n",
    "    # file_path = \"medallion_architecture.mmd\"\n",
    "    # medallion_flowchart = read_mmd_file(file_path=file_path)\n",
    "\n",
    "    # display_mermaid_diagram(diagram=medallion_flowchart)"
   ]
  }
 ],
 "metadata": {
  "application/vnd.databricks.v1+notebook": {
   "computePreferences": null,
   "dashboards": [],
   "environmentMetadata": {
    "base_environment": "",
    "environment_version": "2"
   },
   "language": "python",
   "notebookMetadata": {
    "pythonIndentUnit": 4
   },
   "notebookName": "display_documenation",
   "widgets": {}
  },
  "language_info": {
   "name": "python"
  }
 },
 "nbformat": 4,
 "nbformat_minor": 0
}
