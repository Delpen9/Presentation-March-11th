{
 "cells": [
  {
   "cell_type": "code",
   "execution_count": 0,
   "metadata": {
    "application/vnd.databricks.v1+cell": {
     "cellMetadata": {
      "byteLimit": 2048000,
      "rowLimit": 10000
     },
     "inputWidgets": {},
     "nuid": "4d2b5224-ac46-4a82-96e2-58763f306642",
     "showTitle": false,
     "tableResultSettingsMap": {},
     "title": ""
    }
   },
   "outputs": [],
   "source": [
    "%pip install qrcode[pil]"
   ]
  },
  {
   "cell_type": "code",
   "execution_count": 0,
   "metadata": {
    "application/vnd.databricks.v1+cell": {
     "cellMetadata": {
      "byteLimit": 2048000,
      "rowLimit": 10000
     },
     "inputWidgets": {},
     "nuid": "a276051c-f116-4fd3-8bfe-f8edd9d5a817",
     "showTitle": false,
     "tableResultSettingsMap": {},
     "title": ""
    }
   },
   "outputs": [],
   "source": [
    "import qrcode"
   ]
  },
  {
   "cell_type": "code",
   "execution_count": 0,
   "metadata": {
    "application/vnd.databricks.v1+cell": {
     "cellMetadata": {
      "byteLimit": 2048000,
      "rowLimit": 10000
     },
     "inputWidgets": {},
     "nuid": "3d3fe9e9-8777-4c4c-bf4b-3f4b200a6efa",
     "showTitle": false,
     "tableResultSettingsMap": {},
     "title": ""
    }
   },
   "outputs": [],
   "source": [
    "def generate_QR(website_name, filename=\"qrcode.png\"):\n",
    "    \"\"\"\n",
    "    Generates a QR code for a given website name.\n",
    "\n",
    "    Args:\n",
    "    - website_name (str): The website URL to encode in the QR code.\n",
    "    - filename (str): The name of the file to save the QR code image.\n",
    "\n",
    "    Returns:\n",
    "    - None (Saves the QR code as an image)\n",
    "    \"\"\"\n",
    "    qr = qrcode.QRCode(\n",
    "        version=1,  # Controls the size of the QR Code\n",
    "        error_correction=qrcode.constants.ERROR_CORRECT_L,  # Error correction level\n",
    "        box_size=10,  # Size of each box in the QR code grid\n",
    "        border=4,  # Border thickness\n",
    "    )\n",
    "    qr.add_data(website_name)  # Add the website URL\n",
    "    qr.make(fit=True)  # Adjust QR code size\n",
    "\n",
    "    img = qr.make_image(fill=\"black\", back_color=\"white\")  # Generate image\n",
    "    img.save(filename)  # Save as an image file\n",
    "    print(f\"QR Code saved as {filename}\")"
   ]
  },
  {
   "cell_type": "code",
   "execution_count": 0,
   "metadata": {
    "application/vnd.databricks.v1+cell": {
     "cellMetadata": {
      "byteLimit": 2048000,
      "rowLimit": 10000
     },
     "inputWidgets": {},
     "nuid": "ba9ec9aa-acf7-4a53-9898-0e2c9fc89bbd",
     "showTitle": false,
     "tableResultSettingsMap": {},
     "title": ""
    }
   },
   "outputs": [],
   "source": [
    "if __name__ == \"__main__\":\n",
    "    # Example Usage\n",
    "    website = \"https://ctyk5-niaaa-aaaan-qzwza-cai.icp0.io/\"\n",
    "    generate_QR(website, \"presentation_QR_code.png\")"
   ]
  }
 ],
 "metadata": {
  "application/vnd.databricks.v1+notebook": {
   "computePreferences": null,
   "dashboards": [],
   "environmentMetadata": {
    "base_environment": "",
    "environment_version": "2"
   },
   "language": "python",
   "notebookMetadata": {
    "pythonIndentUnit": 4
   },
   "notebookName": "QR_code_maker",
   "widgets": {}
  },
  "language_info": {
   "name": "python"
  }
 },
 "nbformat": 4,
 "nbformat_minor": 0
}
