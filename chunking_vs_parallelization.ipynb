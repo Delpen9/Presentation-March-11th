{
 "cells": [
  {
   "cell_type": "code",
   "execution_count": 0,
   "metadata": {
    "application/vnd.databricks.v1+cell": {
     "cellMetadata": {
      "byteLimit": 2048000,
      "rowLimit": 10000
     },
     "inputWidgets": {},
     "nuid": "2ec2d702-a361-4ec9-90c7-3e3a154ba3d0",
     "showTitle": false,
     "tableResultSettingsMap": {},
     "title": ""
    }
   },
   "outputs": [],
   "source": [
    "import multiprocessing\n",
    "import time"
   ]
  },
  {
   "cell_type": "code",
   "execution_count": 0,
   "metadata": {
    "application/vnd.databricks.v1+cell": {
     "cellMetadata": {
      "byteLimit": 2048000,
      "rowLimit": 10000
     },
     "inputWidgets": {},
     "nuid": "8d2eedea-6b6d-478c-abad-0899eb501a07",
     "showTitle": false,
     "tableResultSettingsMap": {},
     "title": ""
    }
   },
   "outputs": [],
   "source": [
    "def square_numbers(numbers):\n",
    "    \"\"\"Function to square a list of numbers\"\"\"\n",
    "    return [num ** 2 for num in numbers]"
   ]
  },
  {
   "cell_type": "code",
   "execution_count": 0,
   "metadata": {
    "application/vnd.databricks.v1+cell": {
     "cellMetadata": {
      "byteLimit": 2048000,
      "rowLimit": 10000
     },
     "inputWidgets": {},
     "nuid": "8f1ea1a8-08f0-4661-815d-6dae6a12e77c",
     "showTitle": false,
     "tableResultSettingsMap": {},
     "title": ""
    }
   },
   "outputs": [],
   "source": [
    "def test_chunking():\n",
    "    # Example data\n",
    "    data = list(range(1, 10000000))  # 10 million numbers\n",
    "    chunk_size = len(data) // 4  # Split into 4 chunks\n",
    "\n",
    "    # Create chunks\n",
    "    chunks = [data[i : i + chunk_size] for i in range(0, len(data), chunk_size)]\n",
    "\n",
    "    start_time = time.time()\n",
    "\n",
    "    # Process each chunk sequentially\n",
    "    results = []\n",
    "    for chunk in chunks:\n",
    "        results.extend(square_numbers(chunk))\n",
    "\n",
    "    end_time = time.time()\n",
    "    print(f\"Chunking (Sequential) Time: {end_time - start_time:.2f} seconds\")"
   ]
  },
  {
   "cell_type": "code",
   "execution_count": 0,
   "metadata": {
    "application/vnd.databricks.v1+cell": {
     "cellMetadata": {
      "byteLimit": 2048000,
      "rowLimit": 10000
     },
     "inputWidgets": {},
     "nuid": "0503a8c8-29d3-41bb-8202-5ec60911b6ec",
     "showTitle": false,
     "tableResultSettingsMap": {},
     "title": ""
    }
   },
   "outputs": [],
   "source": [
    "def test_parallelization():\n",
    "    # Example data\n",
    "    data = list(range(1, 10000000))  # 10 million numbers\n",
    "    cpu_count = multiprocessing.cpu_count()  # Get available CPU cores\n",
    "\n",
    "    # Create chunks\n",
    "    chunk_size = len(data) // cpu_count\n",
    "    chunks = [data[i : i + chunk_size] for i in range(0, len(data), chunk_size)]\n",
    "\n",
    "    start_time = time.time()\n",
    "\n",
    "    # Use multiprocessing to process chunks in parallel\n",
    "    with multiprocessing.Pool(cpu_count) as pool:\n",
    "        results = pool.map(square_numbers, chunks)\n",
    "\n",
    "    # Flatten the results\n",
    "    results = [num for sublist in results for num in sublist]\n",
    "\n",
    "    end_time = time.time()\n",
    "    print(f\"Parallelization Time: {end_time - start_time:.2f} seconds\")"
   ]
  },
  {
   "cell_type": "code",
   "execution_count": 0,
   "metadata": {
    "application/vnd.databricks.v1+cell": {
     "cellMetadata": {
      "byteLimit": 2048000,
      "rowLimit": 10000
     },
     "inputWidgets": {},
     "nuid": "d623ca67-07ef-45a5-af31-515fc770dbdc",
     "showTitle": false,
     "tableResultSettingsMap": {},
     "title": ""
    }
   },
   "outputs": [],
   "source": [
    "if __name__ == \"__main__\":\n",
    "    ####################################\n",
    "    ## Test Chunking\n",
    "    ####################################\n",
    "    test_chunking()\n",
    "\n",
    "    ####################################\n",
    "    ## Test Parallelization\n",
    "    ## NOTE: Parallelization is actually slower in this example because the task is simple enough in which the multiprocessing overhead is greater than the benefit of parallelization.\n",
    "    ####################################\n",
    "    test_parallelization()"
   ]
  }
 ],
 "metadata": {
  "application/vnd.databricks.v1+notebook": {
   "computePreferences": null,
   "dashboards": [],
   "environmentMetadata": {
    "base_environment": "",
    "environment_version": "2"
   },
   "language": "python",
   "notebookMetadata": {
    "pythonIndentUnit": 4
   },
   "notebookName": "chunking_vs_parallelization",
   "widgets": {}
  },
  "language_info": {
   "name": "python"
  }
 },
 "nbformat": 4,
 "nbformat_minor": 0
}
