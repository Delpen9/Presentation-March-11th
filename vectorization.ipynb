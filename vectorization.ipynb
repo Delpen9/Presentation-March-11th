{
 "cells": [
  {
   "cell_type": "code",
   "execution_count": 0,
   "metadata": {
    "application/vnd.databricks.v1+cell": {
     "cellMetadata": {
      "byteLimit": 2048000,
      "rowLimit": 10000
     },
     "inputWidgets": {},
     "nuid": "37dfd996-2085-4029-b9ee-926585e4fe50",
     "showTitle": false,
     "tableResultSettingsMap": {},
     "title": ""
    }
   },
   "outputs": [],
   "source": [
    "%pip install matplotlib numpy"
   ]
  },
  {
   "cell_type": "code",
   "execution_count": 0,
   "metadata": {
    "application/vnd.databricks.v1+cell": {
     "cellMetadata": {
      "byteLimit": 2048000,
      "rowLimit": 10000
     },
     "inputWidgets": {},
     "nuid": "d262369d-97f3-436a-81fd-77ae902a0023",
     "showTitle": false,
     "tableResultSettingsMap": {},
     "title": ""
    }
   },
   "outputs": [],
   "source": [
    "import numpy as np\n",
    "import matplotlib.pyplot as plt"
   ]
  },
  {
   "cell_type": "code",
   "execution_count": 0,
   "metadata": {
    "application/vnd.databricks.v1+cell": {
     "cellMetadata": {
      "byteLimit": 2048000,
      "rowLimit": 10000
     },
     "inputWidgets": {},
     "nuid": "60948e97-4a1e-40d8-b469-a127f40f67bb",
     "showTitle": false,
     "tableResultSettingsMap": {},
     "title": ""
    }
   },
   "outputs": [],
   "source": [
    "import numpy as np\n",
    "import matplotlib.pyplot as plt\n",
    "import pyarrow as pa\n",
    "import pyarrow.compute as pc\n",
    "import time\n",
    "\n",
    "def generate_vectorization_visual():\n",
    "    # Define array size\n",
    "    N = 1_000_000\n",
    "    x = np.random.rand(N)  # Random array\n",
    "\n",
    "    # Loop-based computation (inefficient)\n",
    "    start = time.time()\n",
    "    y_loop = [i**2 for i in x]  # List comprehension\n",
    "    loop_time = time.time() - start\n",
    "\n",
    "    # NumPy vectorized computation\n",
    "    start = time.time()\n",
    "    y_numpy = x**2  # NumPy broadcasting\n",
    "    numpy_time = time.time() - start\n",
    "\n",
    "    # PyArrow vectorized computation\n",
    "    x_arrow = pa.array(x)  # Convert NumPy array to PyArrow array\n",
    "    start = time.time()\n",
    "    y_arrow = pc.power(x_arrow, 2)  # PyArrow vectorized operation\n",
    "    arrow_time = time.time() - start\n",
    "\n",
    "    # Create a more visually appealing bar chart\n",
    "    plt.figure(figsize=(8, 5))\n",
    "    bars = plt.bar(\n",
    "        [\"Loop-based\", \"NumPy\", \"PyArrow\"],\n",
    "        [loop_time, numpy_time, arrow_time],\n",
    "        color=[\"red\", \"green\", \"blue\"],\n",
    "        edgecolor=\"black\",\n",
    "        linewidth=1.2,\n",
    "        alpha=0.75,\n",
    "    )\n",
    "\n",
    "    # Add value labels on top of bars\n",
    "    for bar in bars:\n",
    "        height = bar.get_height()\n",
    "        plt.text(\n",
    "            bar.get_x() + bar.get_width() / 2,\n",
    "            height + 0.001,\n",
    "            f\"{height:.2f}\",\n",
    "            ha=\"center\",\n",
    "            fontsize=12,\n",
    "            fontweight=\"bold\",\n",
    "        )\n",
    "\n",
    "    # Add labels and title with improved font styling\n",
    "    plt.ylabel(\"Execution Time (seconds)\", fontsize=12, fontweight=\"bold\")\n",
    "    plt.title(\"Loop vs. NumPy vs. PyArrow Vectorization in Python\", fontsize=14, fontweight=\"bold\")\n",
    "\n",
    "    # Improve grid visibility\n",
    "    plt.grid(axis=\"y\", linestyle=\"--\", alpha=0.6)\n",
    "\n",
    "    plt.show()"
   ]
  },
  {
   "cell_type": "code",
   "execution_count": 0,
   "metadata": {
    "application/vnd.databricks.v1+cell": {
     "cellMetadata": {
      "byteLimit": 2048000,
      "rowLimit": 10000
     },
     "inputWidgets": {},
     "nuid": "d600bd90-fa69-41c2-b8fd-0d86068b1810",
     "showTitle": false,
     "tableResultSettingsMap": {},
     "title": ""
    }
   },
   "outputs": [],
   "source": [
    "if __name__ == \"__main__\":\n",
    "    # Generate visualization and create PowerPoint\n",
    "    generate_vectorization_visual()"
   ]
  }
 ],
 "metadata": {
  "application/vnd.databricks.v1+notebook": {
   "computePreferences": null,
   "dashboards": [],
   "environmentMetadata": {
    "base_environment": "",
    "environment_version": "2"
   },
   "language": "python",
   "notebookMetadata": {
    "pythonIndentUnit": 4
   },
   "notebookName": "vectorization",
   "widgets": {}
  },
  "language_info": {
   "name": "python"
  }
 },
 "nbformat": 4,
 "nbformat_minor": 0
}
