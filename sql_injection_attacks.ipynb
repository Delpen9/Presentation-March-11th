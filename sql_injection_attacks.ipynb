{
 "cells": [
  {
   "cell_type": "code",
   "execution_count": 0,
   "metadata": {
    "application/vnd.databricks.v1+cell": {
     "cellMetadata": {
      "byteLimit": 2048000,
      "rowLimit": 10000
     },
     "inputWidgets": {},
     "nuid": "33259400-b542-4a8a-9f4e-45d979013e98",
     "showTitle": false,
     "tableResultSettingsMap": {},
     "title": ""
    }
   },
   "outputs": [],
   "source": [
    "%pip install snowflake snowflake-snowpark-python"
   ]
  },
  {
   "cell_type": "code",
   "execution_count": 0,
   "metadata": {
    "application/vnd.databricks.v1+cell": {
     "cellMetadata": {
      "byteLimit": 2048000,
      "rowLimit": 10000
     },
     "inputWidgets": {},
     "nuid": "fc21565a-4d68-45ed-9f94-8d128926f98b",
     "showTitle": false,
     "tableResultSettingsMap": {},
     "title": ""
    }
   },
   "outputs": [],
   "source": [
    "from snowflake.snowpark import Session"
   ]
  },
  {
   "cell_type": "code",
   "execution_count": 0,
   "metadata": {
    "application/vnd.databricks.v1+cell": {
     "cellMetadata": {},
     "inputWidgets": {},
     "nuid": "9dcac545-e052-49b6-b4cc-7e8de52036ad",
     "showTitle": false,
     "tableResultSettingsMap": {},
     "title": ""
    }
   },
   "outputs": [],
   "source": [
    "def safe_account_retrieval_func():\n",
    "    raise NotImplementedError\n",
    "\n",
    "def safe_password_retrieval_func():\n",
    "    raise NotImplementedError"
   ]
  },
  {
   "cell_type": "code",
   "execution_count": 0,
   "metadata": {
    "application/vnd.databricks.v1+cell": {
     "cellMetadata": {
      "byteLimit": 2048000,
      "rowLimit": 10000
     },
     "inputWidgets": {},
     "nuid": "26d870a3-cc45-483a-914b-456b308e60ba",
     "showTitle": false,
     "tableResultSettingsMap": {},
     "title": ""
    }
   },
   "outputs": [],
   "source": [
    "def unsafe_query():\n",
    "    # Create a Snowpark session (Replace with actual credentials)\n",
    "    connection_parameters = {\n",
    "        \"account\": safe_account_retrieval_func(),\n",
    "        \"user\": \"your_user\",\n",
    "        \"password\": safe_password_retrieval_func(),\n",
    "        \"role\": \"your_role\",\n",
    "        \"warehouse\": \"your_warehouse\",\n",
    "        \"database\": \"your_database\",\n",
    "        \"schema\": \"your_schema\"\n",
    "    }\n",
    "    session = Session.builder.configs(connection_parameters).create()\n",
    "\n",
    "    # 🚨 UNSAFE: Directly concatenating user input\n",
    "    user_input = \"1' OR '1'='1\"  # An attacker injects this value\n",
    "    query = f\"SELECT * FROM users WHERE id = '{user_input}'\"\n",
    "\n",
    "    # Execute query\n",
    "    df = session.sql(query).collect()  # This executes the malicious query\n",
    "    print(df)"
   ]
  },
  {
   "cell_type": "code",
   "execution_count": 0,
   "metadata": {
    "application/vnd.databricks.v1+cell": {
     "cellMetadata": {
      "byteLimit": 2048000,
      "rowLimit": 10000
     },
     "inputWidgets": {},
     "nuid": "6bb26da0-24fd-4940-b651-360220a4e7cd",
     "showTitle": false,
     "tableResultSettingsMap": {},
     "title": ""
    }
   },
   "outputs": [],
   "source": [
    "def safe_query():\n",
    "    # Create a Snowpark session (Replace with actual credentials)\n",
    "    connection_parameters = {\n",
    "        \"account\": safe_account_retrieval_func(),\n",
    "        \"user\": \"your_user\",\n",
    "        \"password\": safe_password_retrieval_func(),\n",
    "        \"role\": \"your_role\",\n",
    "        \"warehouse\": \"your_warehouse\",\n",
    "        \"database\": \"your_database\",\n",
    "        \"schema\": \"your_schema\"\n",
    "    }\n",
    "    session = Session.builder.configs(connection_parameters).create()\n",
    "\n",
    "    # Secure version using bind parameters\n",
    "    user_input = \"1' OR '1'='1\"  # Even if an attacker tries to inject, it won’t work\n",
    "\n",
    "    query = \"SELECT * FROM users WHERE id = ?\"\n",
    "    df = session.sql(query).bind(user_input).collect()  # Secure query execution\n",
    "    print(df)"
   ]
  }
 ],
 "metadata": {
  "application/vnd.databricks.v1+notebook": {
   "computePreferences": null,
   "dashboards": [],
   "environmentMetadata": {
    "base_environment": "",
    "environment_version": "2"
   },
   "language": "python",
   "notebookMetadata": {
    "pythonIndentUnit": 4
   },
   "notebookName": "sql_injection_attacks",
   "widgets": {}
  },
  "language_info": {
   "name": "python"
  }
 },
 "nbformat": 4,
 "nbformat_minor": 0
}
