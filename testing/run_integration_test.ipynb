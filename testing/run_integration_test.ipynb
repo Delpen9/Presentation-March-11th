{
 "cells": [
  {
   "cell_type": "code",
   "execution_count": 0,
   "metadata": {
    "application/vnd.databricks.v1+cell": {
     "cellMetadata": {
      "byteLimit": 2048000,
      "rowLimit": 10000
     },
     "inputWidgets": {},
     "nuid": "8f799f6a-80ae-46f5-abb7-a3c93d1506fb",
     "showTitle": false,
     "tableResultSettingsMap": {},
     "title": ""
    }
   },
   "outputs": [],
   "source": [
    "%pip install pandas pytest"
   ]
  },
  {
   "cell_type": "code",
   "execution_count": 0,
   "metadata": {
    "application/vnd.databricks.v1+cell": {
     "cellMetadata": {
      "byteLimit": 2048000,
      "rowLimit": 10000
     },
     "inputWidgets": {},
     "nuid": "7fa9e35f-6bf2-44ca-bb66-59e7ac6e3c8d",
     "showTitle": false,
     "tableResultSettingsMap": {},
     "title": ""
    }
   },
   "outputs": [],
   "source": [
    "import pytest\n",
    "import pandas as pd\n",
    "\n",
    "import os\n",
    "os.environ[\"PYTHONPYCACHEPREFIX\"] = \"/tmp/pytest_cache\""
   ]
  },
  {
   "cell_type": "markdown",
   "metadata": {
    "application/vnd.databricks.v1+cell": {
     "cellMetadata": {},
     "inputWidgets": {},
     "nuid": "5477b6a5-0943-43ea-b68f-8e290c7debb5",
     "showTitle": false,
     "tableResultSettingsMap": {},
     "title": ""
    }
   },
   "source": [
    "## Code Being Tested"
   ]
  },
  {
   "cell_type": "code",
   "execution_count": 0,
   "metadata": {
    "application/vnd.databricks.v1+cell": {
     "cellMetadata": {},
     "inputWidgets": {},
     "nuid": "2a5bcb22-5992-48a9-810b-20cbed08cdc8",
     "showTitle": false,
     "tableResultSettingsMap": {},
     "title": ""
    }
   },
   "outputs": [],
   "source": [
    "# import pandas as pd\n",
    "# import pytest\n",
    "\n",
    "# def process_dataframe(df: pd.DataFrame) -> pd.DataFrame:\n",
    "#     \"\"\"\n",
    "#     Processes a DataFrame by cleaning column names, handling duplicates,\n",
    "#     converting dates, and filling missing values.\n",
    "#     \"\"\"\n",
    "#     # Clean column names\n",
    "#     df.columns = df.columns.str.lower().str.replace(\" \", \"_\")\n",
    "\n",
    "#     # Drop duplicates\n",
    "#     df = df.drop_duplicates()\n",
    "\n",
    "#     # Convert date column to datetime\n",
    "#     if 'date_column' in df.columns:\n",
    "#         df['date_column'] = pd.to_datetime(df['date_column'], errors='coerce')\n",
    "\n",
    "#     # Fill missing values in a numeric column with the median\n",
    "#     if 'numeric_column' in df.columns:\n",
    "#         median_value = df['numeric_column'].median()\n",
    "#         df['numeric_column'].fillna(median_value, inplace=True)\n",
    "\n",
    "#     return df\n",
    "\n",
    "# @pytest.fixture\n",
    "# def sample_dataframe():\n",
    "#     \"\"\"Fixture to create a sample DataFrame.\"\"\"\n",
    "#     data = {\n",
    "#         \"Name\": [\"Alice\", \"Bob\", \"Charlie\", \"Alice\"],\n",
    "#         \"Date Column\": [\"2023-01-01\", \"2023-02-01\", \"InvalidDate\", \"2023-01-01\"],\n",
    "#         \"Numeric Column\": [10, None, 30, 10],\n",
    "#     }\n",
    "#     return pd.DataFrame(data)\n",
    "\n",
    "# def test_process_dataframe(sample_dataframe):\n",
    "#     \"\"\"Tests the process_dataframe function.\"\"\"\n",
    "#     processed_df = process_dataframe(sample_dataframe)\n",
    "\n",
    "#     # Validate column name transformation\n",
    "#     assert list(processed_df.columns) == [\"name\", \"date_column\", \"numeric_column\"]\n",
    "\n",
    "#     # Validate duplicate removal (Alice's row should be removed)\n",
    "#     assert processed_df.shape[0] == 3  # Originally 4, now 3\n",
    "\n",
    "#     # Validate date parsing (invalid date should be NaT)\n",
    "#     assert pd.isna(processed_df.loc[processed_df[\"name\"] == \"charlie\", \"date_column\"]).all()\n",
    "\n",
    "#     # Validate missing numeric value filled with median\n",
    "#     median_value = sample_dataframe[\"Numeric Column\"].median()\n",
    "#     assert processed_df[\"numeric_column\"].isna().sum() == 0  # No missing values\n",
    "#     assert processed_df.loc[processed_df[\"name\"] == \"bob\", \"numeric_column\"].values[0] == median_value"
   ]
  },
  {
   "cell_type": "markdown",
   "metadata": {
    "application/vnd.databricks.v1+cell": {
     "cellMetadata": {},
     "inputWidgets": {},
     "nuid": "80275b91-b9fe-4d50-984b-17b6584a954c",
     "showTitle": false,
     "tableResultSettingsMap": {},
     "title": ""
    }
   },
   "source": [
    "## Execute Integration Unit Test"
   ]
  },
  {
   "cell_type": "code",
   "execution_count": 0,
   "metadata": {
    "application/vnd.databricks.v1+cell": {
     "cellMetadata": {
      "byteLimit": 2048000,
      "rowLimit": 10000
     },
     "inputWidgets": {},
     "nuid": "f5a4a1c4-4f53-4991-9439-112f46aa3332",
     "showTitle": false,
     "tableResultSettingsMap": {},
     "title": ""
    }
   },
   "outputs": [],
   "source": [
    "!pytest --basetemp=/tmp/pytest_temp -v"
   ]
  }
 ],
 "metadata": {
  "application/vnd.databricks.v1+notebook": {
   "computePreferences": null,
   "dashboards": [],
   "environmentMetadata": {
    "base_environment": "",
    "environment_version": "2"
   },
   "language": "python",
   "notebookMetadata": {
    "pythonIndentUnit": 4
   },
   "notebookName": "run_integration_test",
   "widgets": {}
  },
  "language_info": {
   "name": "python"
  }
 },
 "nbformat": 4,
 "nbformat_minor": 0
}
