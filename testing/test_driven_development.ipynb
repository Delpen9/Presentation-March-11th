{
 "cells": [
  {
   "cell_type": "markdown",
   "metadata": {
    "application/vnd.databricks.v1+cell": {
     "cellMetadata": {
      "byteLimit": 2048000,
      "rowLimit": 10000
     },
     "inputWidgets": {},
     "nuid": "36f829fd-aae0-4e25-9919-1af8c752a8cd",
     "showTitle": false,
     "tableResultSettingsMap": {},
     "title": ""
    }
   },
   "source": [
    "# **Scenario**\n",
    "\n",
    "We will implement a simple function that checks if a number is **prime**. The TDD workflow follows these steps:\n",
    "\n",
    "1. **Write a failing test** (because the function does not exist yet).\n",
    "2. **Write the minimal implementation** to make the test pass.\n",
    "3. **Refactor if necessary** while ensuring tests still pass."
   ]
  },
  {
   "cell_type": "code",
   "execution_count": 0,
   "metadata": {
    "application/vnd.databricks.v1+cell": {
     "cellMetadata": {
      "byteLimit": 2048000,
      "rowLimit": 10000
     },
     "inputWidgets": {},
     "nuid": "020a6e52-99f0-47b5-8d84-498f08c7a6c7",
     "showTitle": false,
     "tableResultSettingsMap": {},
     "title": ""
    }
   },
   "outputs": [],
   "source": [
    "import unittest"
   ]
  },
  {
   "cell_type": "code",
   "execution_count": 0,
   "metadata": {
    "application/vnd.databricks.v1+cell": {
     "cellMetadata": {
      "byteLimit": 2048000,
      "rowLimit": 10000
     },
     "inputWidgets": {},
     "nuid": "d7c29d1f-6fe2-4f7b-b608-797d3b8e4e75",
     "showTitle": false,
     "tableResultSettingsMap": {},
     "title": ""
    }
   },
   "outputs": [],
   "source": [
    "def unimplemented_is_prime(n):\n",
    "    raise NotImplementedError\n",
    "\n",
    "def implemented_is_prime(n):\n",
    "    def is_prime(n):\n",
    "        if n < 2:\n",
    "            return False\n",
    "        for i in range(2, int(n ** 0.5) + 1):\n",
    "            if n % i == 0:\n",
    "                return False\n",
    "        return True"
   ]
  },
  {
   "cell_type": "code",
   "execution_count": 0,
   "metadata": {
    "application/vnd.databricks.v1+cell": {
     "cellMetadata": {
      "byteLimit": 2048000,
      "rowLimit": 10000
     },
     "inputWidgets": {},
     "nuid": "19f5a3e6-8b83-4f46-af17-d60ef88ea6f5",
     "showTitle": false,
     "tableResultSettingsMap": {},
     "title": ""
    }
   },
   "outputs": [],
   "source": [
    "class FailingTestPrimeChecker(unittest.TestCase):\n",
    "    def test_prime_numbers(self):\n",
    "        self.assertTrue(unimplemented_is_prime(2))\n",
    "        self.assertTrue(unimplemented_is_prime(3))\n",
    "        self.assertTrue(unimplemented_is_prime(5))\n",
    "        self.assertTrue(unimplemented_is_prime(7))\n",
    "        self.assertTrue(unimplemented_is_prime(11))\n",
    "    \n",
    "    def test_non_prime_numbers(self):\n",
    "        self.assertFalse(unimplemented_is_prime(1))\n",
    "        self.assertFalse(unimplemented_is_prime(4))\n",
    "        self.assertFalse(unimplemented_is_prime(6))\n",
    "        self.assertFalse(unimplemented_is_prime(8))\n",
    "        self.assertFalse(unimplemented_is_prime(9))\n",
    "        self.assertFalse(unimplemented_is_prime(10))\n",
    "    \n",
    "    def test_negative_numbers(self):\n",
    "        self.assertFalse(unimplemented_is_prime(-1))\n",
    "        self.assertFalse(unimplemented_is_prime(-5))\n",
    "        self.assertFalse(unimplemented_is_prime(-10))"
   ]
  },
  {
   "cell_type": "code",
   "execution_count": 0,
   "metadata": {
    "application/vnd.databricks.v1+cell": {
     "cellMetadata": {
      "byteLimit": 2048000,
      "rowLimit": 10000
     },
     "inputWidgets": {},
     "nuid": "5d52dee2-9c77-44fe-b2bc-c0363c2786a6",
     "showTitle": false,
     "tableResultSettingsMap": {},
     "title": ""
    }
   },
   "outputs": [],
   "source": [
    "class PassingTestPrimeChecker(unittest.TestCase):\n",
    "    def test_prime_numbers(self):\n",
    "        self.assertTrue(implemented_is_prime(2))\n",
    "        self.assertTrue(implemented_is_prime(3))\n",
    "        self.assertTrue(implemented_is_prime(5))\n",
    "        self.assertTrue(implemented_is_prime(7))\n",
    "        self.assertTrue(implemented_is_prime(11))\n",
    "    \n",
    "    def test_non_prime_numbers(self):\n",
    "        self.assertFalse(implemented_is_prime(1))\n",
    "        self.assertFalse(implemented_is_prime(4))\n",
    "        self.assertFalse(implemented_is_prime(6))\n",
    "        self.assertFalse(implemented_is_prime(8))\n",
    "        self.assertFalse(implemented_is_prime(9))\n",
    "        self.assertFalse(implemented_is_prime(10))\n",
    "    \n",
    "    def test_negative_numbers(self):\n",
    "        self.assertFalse(implemented_is_prime(-1))\n",
    "        self.assertFalse(implemented_is_prime(-5))\n",
    "        self.assertFalse(implemented_is_prime(-10))"
   ]
  },
  {
   "cell_type": "code",
   "execution_count": 0,
   "metadata": {
    "application/vnd.databricks.v1+cell": {
     "cellMetadata": {
      "byteLimit": 2048000,
      "rowLimit": 10000
     },
     "inputWidgets": {},
     "nuid": "17d2739b-1751-4fa1-9a94-e8689a02e416",
     "showTitle": false,
     "tableResultSettingsMap": {},
     "title": ""
    }
   },
   "outputs": [],
   "source": [
    "# Explicitly run tests without unittest.main()\n",
    "if __name__ == \"__main__\":\n",
    "    # NOTE: This test case is expected to fail because the is_prime() function is not implemented\n",
    "    suite = unittest.TestLoader().loadTestsFromTestCase(FailingTestPrimeChecker)\n",
    "    unittest.TextTestRunner().run(suite)\n",
    "\n",
    "    # NOTE: This test case is expected to pass\n",
    "    suite = unittest.TestLoader().loadTestsFromTestCase(PassingTestPrimeChecker)\n",
    "    unittest.TextTestRunner().run(suite)"
   ]
  }
 ],
 "metadata": {
  "application/vnd.databricks.v1+notebook": {
   "computePreferences": null,
   "dashboards": [],
   "environmentMetadata": {
    "base_environment": "",
    "environment_version": "2"
   },
   "language": "python",
   "notebookMetadata": {
    "pythonIndentUnit": 4
   },
   "notebookName": "test_driven_development",
   "widgets": {}
  },
  "language_info": {
   "name": "python"
  }
 },
 "nbformat": 4,
 "nbformat_minor": 0
}
